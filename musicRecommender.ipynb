{
  "nbformat": 4,
  "nbformat_minor": 0,
  "metadata": {
    "colab": {
      "provenance": [],
      "authorship_tag": "ABX9TyNn6vPQJ9d2HJe5jzqCdcoY",
      "include_colab_link": true
    },
    "kernelspec": {
      "name": "python3",
      "display_name": "Python 3"
    },
    "language_info": {
      "name": "python"
    }
  },
  "cells": [
    {
      "cell_type": "markdown",
      "metadata": {
        "id": "view-in-github",
        "colab_type": "text"
      },
      "source": [
        "<a href=\"https://colab.research.google.com/github/shajarian/Music-Recommender-PySpark/blob/main/musicRecommender.ipynb\" target=\"_parent\"><img src=\"https://colab.research.google.com/assets/colab-badge.svg\" alt=\"Open In Colab\"/></a>"
      ]
    },
    {
      "cell_type": "markdown",
      "source": [
        "**Music Recommender**"
      ],
      "metadata": {
        "id": "Pf5pvhsGcNVE"
      }
    },
    {
      "cell_type": "code",
      "execution_count": null,
      "metadata": {
        "colab": {
          "base_uri": "https://localhost:8080/"
        },
        "id": "N3qcQGMdSxl1",
        "outputId": "e8a1145a-5663-47fe-ebf9-12223f738fd7"
      },
      "outputs": [
        {
          "output_type": "stream",
          "name": "stdout",
          "text": [
            "Drive already mounted at /content/drive; to attempt to forcibly remount, call drive.mount(\"/content/drive\", force_remount=True).\n"
          ]
        }
      ],
      "source": [
        "from google.colab import drive\n",
        "drive.mount('/content/drive')"
      ]
    },
    {
      "cell_type": "code",
      "source": [
        "!pip install pyspark"
      ],
      "metadata": {
        "colab": {
          "base_uri": "https://localhost:8080/"
        },
        "id": "iWAKc319XAaT",
        "outputId": "f634a5f9-9c92-4df0-8b17-655856543c5c"
      },
      "execution_count": null,
      "outputs": [
        {
          "output_type": "stream",
          "name": "stdout",
          "text": [
            "Requirement already satisfied: pyspark in /usr/local/lib/python3.10/dist-packages (3.5.1)\n",
            "Requirement already satisfied: py4j==0.10.9.7 in /usr/local/lib/python3.10/dist-packages (from pyspark) (0.10.9.7)\n"
          ]
        }
      ]
    },
    {
      "cell_type": "code",
      "source": [
        "from pyspark.sql import SparkSession\n",
        "from pyspark.sql.functions import count, desc , col, max\n",
        "from pyspark.ml.feature import  StringIndexer\n",
        "from pyspark.ml import Pipeline\n",
        "from pyspark.ml.recommendation import ALS\n",
        "from pyspark.ml.tuning import TrainValidationSplit, ParamGridBuilder\n",
        "\n",
        "spark = SparkSession.builder.appName(\"lastfm\").getOrCreate()"
      ],
      "metadata": {
        "id": "SnOrTdQXXEPD"
      },
      "execution_count": null,
      "outputs": []
    },
    {
      "cell_type": "code",
      "source": [
        "!ls \"/content/drive/My Drive/Semester 3/Big Data/HW4\""
      ],
      "metadata": {
        "colab": {
          "base_uri": "https://localhost:8080/"
        },
        "id": "_faSoZsabCbb",
        "outputId": "3758b0cb-0569-4359-88d2-5edd3a9e9fc4"
      },
      "execution_count": null,
      "outputs": [
        {
          "output_type": "stream",
          "name": "stdout",
          "text": [
            " archive.zip  'Assignment-4(1).pdf'   listenings.csv  'wordcount.ipynb - Colab.pdf'\n"
          ]
        }
      ]
    },
    {
      "cell_type": "code",
      "source": [
        "file_path = \"/content/drive/My Drive/Semester 3/Big Data/HW4/listenings.csv\""
      ],
      "metadata": {
        "id": "ieZuN20KaBkt"
      },
      "execution_count": null,
      "outputs": []
    },
    {
      "cell_type": "code",
      "source": [
        "df_listenings = spark.read.format('csv').option('header',True).option('inferSchema',True).load(file_path) #data frame, header will infer column types from csv\n",
        "df_listenings.show()"
      ],
      "metadata": {
        "colab": {
          "base_uri": "https://localhost:8080/"
        },
        "id": "XiI9GDxKaqL3",
        "outputId": "4303314f-ccc7-436d-d322-3d6eed589394"
      },
      "execution_count": null,
      "outputs": [
        {
          "output_type": "stream",
          "name": "stdout",
          "text": [
            "+-----------+-------------+--------------------+---------------+--------------------+\n",
            "|    user_id|         date|               track|         artist|               album|\n",
            "+-----------+-------------+--------------------+---------------+--------------------+\n",
            "|000Silenced|1299680100000|           Price Tag|       Jessie J|         Who You Are|\n",
            "|000Silenced|1299679920000|Price Tag (Acoust...|       Jessie J|           Price Tag|\n",
            "|000Silenced|1299679440000|Be Mine! (Ballad ...|          Robyn|            Be Mine!|\n",
            "|000Silenced|1299679200000|            Acapella|          Kelis|            Acapella|\n",
            "|000Silenced|1299675660000|   I'm Not Invisible|      The Tease|   I'm Not Invisible|\n",
            "|000Silenced|1297511400000|Bounce (Feat NORE...|       MSTRKRFT|         Fist of God|\n",
            "|000Silenced|1294498440000|Don't Stop The Mu...|        Rihanna|Addicted 2 Bassli...|\n",
            "|000Silenced|1292438340000|               ObZen|      Meshuggah|               ObZen|\n",
            "|000Silenced|1292437740000|   Yama's Messengers|         Gojira|The Way of All Flesh|\n",
            "|000Silenced|1292436360000|On the Brink of E...|   Napalm Death|Time Waits For No...|\n",
            "|000Silenced|1292436360000|On the Brink of E...|   Napalm Death|Time Waits For No...|\n",
            "|000Silenced|1292435940000|        In Deference|   Napalm Death|      Smear Campaign|\n",
            "|000Silenced|1292434920000|      Post(?)organic|    Decapitated|Organic Hallucinosis|\n",
            "|000Silenced|1292434560000|        Mind Feeders|   Dom & Roland| No Strings Attached|\n",
            "|000Silenced|1292434320000|Necrosadistic War...|Cannibal Corpse|                Kill|\n",
            "|000Silenced|1292365560000|     Dance All Night|   Dom & Roland|          Chronology|\n",
            "|000Silenced|1292365260000|          Late Night|   Dom & Roland|          Chronology|\n",
            "|000Silenced|1292365020000|          Freak Seen|   Dom & Roland|          Chronology|\n",
            "|000Silenced|1292364720000|Paradrenasite (Hi...|   Dom & Roland|          Chronology|\n",
            "|000Silenced|1292364300000|               Rhino|   Dom & Roland|          Chronology|\n",
            "+-----------+-------------+--------------------+---------------+--------------------+\n",
            "only showing top 20 rows\n",
            "\n"
          ]
        }
      ]
    },
    {
      "cell_type": "markdown",
      "source": [
        "Cleaning Table"
      ],
      "metadata": {
        "id": "kasbNyylbVse"
      }
    },
    {
      "cell_type": "code",
      "source": [
        "df_listenings = df_listenings.drop('date')#drop date and time col from data frame\n",
        "df_listenings = df_listenings.na.drop() # removes null values in the row\n",
        "df_listenings.show()"
      ],
      "metadata": {
        "colab": {
          "base_uri": "https://localhost:8080/"
        },
        "id": "5zfwXsWmbU0G",
        "outputId": "a6ee9235-8661-4c31-8d63-89973bcbafdd"
      },
      "execution_count": null,
      "outputs": [
        {
          "output_type": "stream",
          "name": "stdout",
          "text": [
            "+-----------+--------------------+---------------+--------------------+\n",
            "|    user_id|               track|         artist|               album|\n",
            "+-----------+--------------------+---------------+--------------------+\n",
            "|000Silenced|           Price Tag|       Jessie J|         Who You Are|\n",
            "|000Silenced|Price Tag (Acoust...|       Jessie J|           Price Tag|\n",
            "|000Silenced|Be Mine! (Ballad ...|          Robyn|            Be Mine!|\n",
            "|000Silenced|            Acapella|          Kelis|            Acapella|\n",
            "|000Silenced|   I'm Not Invisible|      The Tease|   I'm Not Invisible|\n",
            "|000Silenced|Bounce (Feat NORE...|       MSTRKRFT|         Fist of God|\n",
            "|000Silenced|Don't Stop The Mu...|        Rihanna|Addicted 2 Bassli...|\n",
            "|000Silenced|               ObZen|      Meshuggah|               ObZen|\n",
            "|000Silenced|   Yama's Messengers|         Gojira|The Way of All Flesh|\n",
            "|000Silenced|On the Brink of E...|   Napalm Death|Time Waits For No...|\n",
            "|000Silenced|On the Brink of E...|   Napalm Death|Time Waits For No...|\n",
            "|000Silenced|        In Deference|   Napalm Death|      Smear Campaign|\n",
            "|000Silenced|      Post(?)organic|    Decapitated|Organic Hallucinosis|\n",
            "|000Silenced|        Mind Feeders|   Dom & Roland| No Strings Attached|\n",
            "|000Silenced|Necrosadistic War...|Cannibal Corpse|                Kill|\n",
            "|000Silenced|     Dance All Night|   Dom & Roland|          Chronology|\n",
            "|000Silenced|          Late Night|   Dom & Roland|          Chronology|\n",
            "|000Silenced|          Freak Seen|   Dom & Roland|          Chronology|\n",
            "|000Silenced|Paradrenasite (Hi...|   Dom & Roland|          Chronology|\n",
            "|000Silenced|               Rhino|   Dom & Roland|          Chronology|\n",
            "+-----------+--------------------+---------------+--------------------+\n",
            "only showing top 20 rows\n",
            "\n"
          ]
        }
      ]
    },
    {
      "cell_type": "code",
      "source": [
        "rows = df_listenings.count()\n",
        "cols = len(df_listenings.columns)\n",
        "print(rows,cols)"
      ],
      "metadata": {
        "colab": {
          "base_uri": "https://localhost:8080/"
        },
        "id": "ueQ03bdYbjBy",
        "outputId": "b0bbf13f-b29a-4023-c0a6-c57c2cbd58f6"
      },
      "execution_count": null,
      "outputs": [
        {
          "output_type": "stream",
          "name": "stdout",
          "text": [
            "13758905 4\n"
          ]
        }
      ]
    },
    {
      "cell_type": "code",
      "source": [
        "#in order to make a model, we need to know how many times a user has listened to each song\n",
        "df_listenings_agg = df_listenings.select('user_id', 'track').groupby('user_id', 'track').agg(count('*').alias('count')).orderBy('user_id')\n",
        "df_listenings_agg.show()"
      ],
      "metadata": {
        "colab": {
          "base_uri": "https://localhost:8080/"
        },
        "id": "ko3jX_sabnzM",
        "outputId": "7740cb4c-1149-4215-f277-637ddfa5f9de"
      },
      "execution_count": null,
      "outputs": [
        {
          "output_type": "stream",
          "name": "stdout",
          "text": [
            "+-------+--------------------+-----+\n",
            "|user_id|               track|count|\n",
            "+-------+--------------------+-----+\n",
            "| --Seph| White Winter Hymnal|    3|\n",
            "| --Seph|         The Funeral|    1|\n",
            "| --Seph|Hope There's Someone|    1|\n",
            "| --Seph|         The Painter|    1|\n",
            "| --Seph|          Je te veux|    1|\n",
            "| --Seph|            War Pigs|    1|\n",
            "| --Seph|                 F12|    1|\n",
            "| --Seph|                Team|    1|\n",
            "| --Seph|          Nightmares|    1|\n",
            "| --Seph|               Radio|    1|\n",
            "| --Seph|   All I Want Is You|    1|\n",
            "| --Seph|    Little by Little|    2|\n",
            "| --Seph|        After Nature|    1|\n",
            "| --Seph|In the Hall of th...|    1|\n",
            "| --Seph|   Hey There Delilah|    1|\n",
            "| --Seph|   Let's Call It Off|    1|\n",
            "| --Seph|               Leloo|    1|\n",
            "| --Seph|             Pack Up|    1|\n",
            "| --Seph|           Introitus|    1|\n",
            "| --Seph|        The Leanover|    1|\n",
            "+-------+--------------------+-----+\n",
            "only showing top 20 rows\n",
            "\n"
          ]
        }
      ]
    },
    {
      "cell_type": "code",
      "source": [
        "row = df_listenings_agg.count()\n",
        "col = len(df_listenings_agg.columns)\n",
        "print(row,col)"
      ],
      "metadata": {
        "colab": {
          "base_uri": "https://localhost:8080/"
        },
        "id": "RTNAEO2mbp-T",
        "outputId": "814fb6d5-e735-4679-c60f-0bd121891099"
      },
      "execution_count": null,
      "outputs": [
        {
          "output_type": "stream",
          "name": "stdout",
          "text": [
            "9930128 3\n"
          ]
        }
      ]
    },
    {
      "cell_type": "code",
      "source": [
        "#we want to decrement our row size, its almost 10 million, lets reduce it inorder to process our data much faster\n",
        "df_listenings_agg = df_listenings_agg.limit(20000)"
      ],
      "metadata": {
        "id": "0Yn5XTOhbrr7"
      },
      "execution_count": null,
      "outputs": []
    },
    {
      "cell_type": "code",
      "source": [
        "#We want to use StringIndexer to convert userID and track to unique, integer values\n",
        "#StringIndexer encodes a string column of labels to a column of label indices\n",
        "old_strindexer = [StringIndexer(inputCol = col, outputCol = col + '_index').fit(df_listenings_agg) for col in list(set(df_listenings_agg.columns)- set(['count']))]\n",
        "indexer = [curr_strindexer.setHandleInvalid(\"keep\") for curr_strindexer in old_strindexer]\n",
        "pipeline = Pipeline(stages = indexer)\n",
        "#the dataframe will be called data\n",
        "#Transformers convert one dataframe into another either by updating the current values of a particular column (like converting categorical columns to numeric) or mapping it to some other values by using a defined logic.\n",
        "#An Estimator implements the fit() method on a dataframe and produces a model.\n",
        "data = pipeline.fit(df_listenings_agg).transform(df_listenings_agg)\n",
        "data.show()"
      ],
      "metadata": {
        "colab": {
          "base_uri": "https://localhost:8080/"
        },
        "id": "E9cAbuU9bwPN",
        "outputId": "5aa80486-ad9e-417b-efae-ffc305842ad2"
      },
      "execution_count": null,
      "outputs": [
        {
          "output_type": "stream",
          "name": "stdout",
          "text": [
            "+-------+--------------------+-----+-----------+-------------+\n",
            "|user_id|               track|count|track_index|user_id_index|\n",
            "+-------+--------------------+-----+-----------+-------------+\n",
            "| --Seph|          Nightmares|    1|    10600.0|         69.0|\n",
            "| --Seph|Virus (Luke Fair ...|    1|    15893.0|         69.0|\n",
            "| --Seph|Airplanes [feat H...|    1|      521.0|         69.0|\n",
            "| --Seph|Belina (Original ...|    1|     3280.0|         69.0|\n",
            "| --Seph|              Monday|    1|      334.0|         69.0|\n",
            "| --Seph|Hungarian Dance No 5|    1|     7555.0|         69.0|\n",
            "| --Seph|       Life On Mars?|    1|     1164.0|         69.0|\n",
            "| --Seph|  California Waiting|    1|      195.0|         69.0|\n",
            "| --Seph|       Phantom Pt II|    1|     1378.0|         69.0|\n",
            "| --Seph|   Summa for Strings|    1|    13737.0|         69.0|\n",
            "| --Seph|      Hour for magic|    2|     7492.0|         69.0|\n",
            "| --Seph|Hungarian Rhapsod...|    1|     7556.0|         69.0|\n",
            "| --Seph|     The Way We Were|    1|    14958.0|         69.0|\n",
            "| --Seph| Air on the G String|    1|     2456.0|         69.0|\n",
            "| --Seph|Vestido Estampado...|    1|    15847.0|         69.0|\n",
            "| --Seph|        Window Blues|    1|     1841.0|         69.0|\n",
            "| --Seph| White Winter Hymnal|    3|       59.0|         69.0|\n",
            "| --Seph|         The Embrace|    1|    14386.0|         69.0|\n",
            "| --Seph|          Paris 2004|    7|    11311.0|         69.0|\n",
            "| --Seph|Chelsea Hotel - L...|    1|     4183.0|         69.0|\n",
            "+-------+--------------------+-----+-----------+-------------+\n",
            "only showing top 20 rows\n",
            "\n"
          ]
        }
      ]
    },
    {
      "cell_type": "code",
      "source": [
        "data = data.select('user_id_index', 'track_index', 'count').orderBy('user_id_index')\n",
        "data.show()"
      ],
      "metadata": {
        "colab": {
          "base_uri": "https://localhost:8080/"
        },
        "id": "1QXFF5jOby9X",
        "outputId": "226817fd-d407-47f5-a5f4-631c815716a2"
      },
      "execution_count": null,
      "outputs": [
        {
          "output_type": "stream",
          "name": "stdout",
          "text": [
            "+-------------+-----------+-----+\n",
            "|user_id_index|track_index|count|\n",
            "+-------------+-----------+-----+\n",
            "|          0.0|    10628.0|    1|\n",
            "|          0.0|     3338.0|    1|\n",
            "|          0.0|    12168.0|    1|\n",
            "|          0.0|    11626.0|    2|\n",
            "|          0.0|    10094.0|    4|\n",
            "|          0.0|      427.0|    1|\n",
            "|          0.0|    16878.0|    1|\n",
            "|          0.0|    11722.0|    1|\n",
            "|          0.0|    15074.0|    1|\n",
            "|          0.0|     1359.0|    1|\n",
            "|          0.0|     5874.0|    1|\n",
            "|          0.0|    11184.0|    1|\n",
            "|          0.0|     2372.0|    2|\n",
            "|          0.0|    14316.0|    1|\n",
            "|          0.0|     5346.0|    1|\n",
            "|          0.0|    11194.0|    1|\n",
            "|          0.0|     2241.0|    1|\n",
            "|          0.0|     2864.0|    1|\n",
            "|          0.0|     2663.0|    4|\n",
            "|          0.0|     6064.0|    1|\n",
            "+-------------+-----------+-----+\n",
            "only showing top 20 rows\n",
            "\n"
          ]
        }
      ]
    },
    {
      "cell_type": "code",
      "source": [
        "(training, test) = data.randomSplit([0.5,0.5])\n",
        "USERID = \"user_id_index\"\n",
        "TRACK = \"track_index\"\n",
        "COUNT = \"count\"\n",
        "\n",
        "als = ALS(maxIter = 5, regParam = 0.01, userCol = USERID, itemCol = TRACK, ratingCol = COUNT)\n",
        "# Alternating Least Squares algorithm\n",
        "print(als)\n",
        "model = als.fit(training)\n",
        "\n",
        "predictions = model.transform(test)"
      ],
      "metadata": {
        "colab": {
          "base_uri": "https://localhost:8080/"
        },
        "id": "s3FsdR6qb3zU",
        "outputId": "36c6deae-1acd-49f7-a0fa-194d3f13ded2"
      },
      "execution_count": null,
      "outputs": [
        {
          "output_type": "stream",
          "name": "stdout",
          "text": [
            "ALS_899f6622d595\n"
          ]
        }
      ]
    },
    {
      "cell_type": "code",
      "source": [
        "recs = model.recommendForAllUsers(10)\n",
        "recs.show()\n",
        "recs.take(1)"
      ],
      "metadata": {
        "colab": {
          "base_uri": "https://localhost:8080/"
        },
        "id": "NIJkBCnqb96q",
        "outputId": "4b9b3b95-c887-433b-f156-12e9fe0ef93c"
      },
      "execution_count": null,
      "outputs": [
        {
          "output_type": "stream",
          "name": "stdout",
          "text": [
            "+-------------+--------------------+\n",
            "|user_id_index|     recommendations|\n",
            "+-------------+--------------------+\n",
            "|            0|[{8819, 7.976172}...|\n",
            "|            1|[{9498, 13.427008...|\n",
            "|            2|[{14825, 9.693659...|\n",
            "|            3|[{15790, 10.14509...|\n",
            "|            4|[{11940, 28.34658...|\n",
            "|            5|[{308, 6.6717935}...|\n",
            "|            6|[{9498, 7.9110384...|\n",
            "|            7|[{15790, 12.23652...|\n",
            "|            8|[{9498, 8.8175955...|\n",
            "|            9|[{9498, 9.9392605...|\n",
            "|           10|[{1739, 11.89157}...|\n",
            "|           11|[{308, 8.949628},...|\n",
            "|           12|[{11940, 18.02002...|\n",
            "|           13|[{11940, 21.05193...|\n",
            "|           14|[{11940, 32.46900...|\n",
            "|           15|[{1739, 5.902044}...|\n",
            "|           16|[{11940, 52.92298...|\n",
            "|           17|[{1739, 9.112538}...|\n",
            "|           18|[{15450, 10.09848...|\n",
            "|           19|[{11940, 21.3478}...|\n",
            "+-------------+--------------------+\n",
            "only showing top 20 rows\n",
            "\n"
          ]
        },
        {
          "output_type": "execute_result",
          "data": {
            "text/plain": [
              "[Row(user_id_index=0, recommendations=[Row(track_index=8819, rating=7.976171970367432), Row(track_index=15450, rating=5.884303569793701), Row(track_index=9498, rating=5.561005115509033), Row(track_index=3345, rating=5.289620399475098), Row(track_index=5041, rating=4.981709003448486), Row(track_index=1544, rating=4.981709003448486), Row(track_index=6153, rating=4.623381614685059), Row(track_index=12398, rating=4.533960342407227), Row(track_index=12890, rating=4.4961652755737305), Row(track_index=11688, rating=4.087423324584961)])]"
            ]
          },
          "metadata": {},
          "execution_count": 32
        }
      ]
    }
  ]
}